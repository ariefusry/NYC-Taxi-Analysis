{
 "cells": [
  {
   "cell_type": "markdown",
   "metadata": {
    "id": "HzPpSWOv-hHh"
   },
   "source": [
    "### Import Libraries"
   ]
  },
  {
   "cell_type": "code",
   "execution_count": null,
   "metadata": {
    "id": "vEuxa3Av-edu"
   },
   "outputs": [],
   "source": [
    "from pyspark.sql import SparkSession\n",
    "from pyspark.sql.functions import (\n",
    "    count, when, col, mean, sum, length, to_timestamp,\n",
    "    hour, dayofweek, month, year, unix_timestamp, rand, isnan, isnull\n",
    ")\n",
    "from pyspark.sql.types import DoubleType\n",
    "from pyspark.ml.feature import VectorAssembler, StandardScaler\n",
    "from pyspark.ml.regression import RandomForestRegressor, LinearRegression\n",
    "from pyspark.ml.evaluation import RegressionEvaluator"
   ]
  },
  {
   "cell_type": "code",
   "execution_count": 42,
   "metadata": {
    "id": "X9pXJjDa-rC3",
    "scrolled": true
   },
   "outputs": [],
   "source": [
    "from pyspark.sql import SparkSession\n",
    "\n",
    "spark = SparkSession.builder \\\n",
    "    .appName(\"NYC_Yellow_Cab_Outlier_Detection\") \\\n",
    "    .config(\"spark.executor.memory\", \"10g\") \\\n",
    "    .config(\"spark.driver.memory\", \"10g\") \\\n",
    "    .config(\"spark.sql.adaptive.enabled\", \"true\") \\\n",
    "    .config(\"spark.sql.warehouse.dir\", \"file:///C:/tmp/spark-warehouse\") \\\n",
    "    .enableHiveSupport() \\\n",
    "    .getOrCreate()\n",
    "\n",
    "spark.sparkContext.setLogLevel(\"ERROR\")\n"
   ]
  },
  {
   "cell_type": "code",
   "execution_count": 43,
   "metadata": {
    "id": "fX4r3iro-rL_"
   },
   "outputs": [],
   "source": [
    "file_paths = [\n",
    "    \"yellow_tripdata_2024-10.parquet\",\n",
    "    \"yellow_tripdata_2024-11.parquet\",\n",
    "    \"yellow_tripdata_2024-12.parquet\",\n",
    "    \"yellow_tripdata_2025-01.parquet\"\n",
    "]"
   ]
  },
  {
   "cell_type": "code",
   "execution_count": 44,
   "metadata": {
    "colab": {
     "base_uri": "https://localhost:8080/"
    },
    "id": "kiVELu7AYqTz",
    "outputId": "c41b6718-eaea-486a-ee71-055ee6a8b840"
   },
   "outputs": [],
   "source": [
    "df = spark.read.parquet(file_paths[0])\n",
    "for path in file_paths[1:]:\n",
    "    new_df = spark.read.parquet(path)\n",
    "    df = df.union(new_df)"
   ]
  },
  {
   "cell_type": "code",
   "execution_count": 45,
   "metadata": {},
   "outputs": [
    {
     "data": {
      "text/plain": [
       "DataFrame[VendorID: int, tpep_pickup_datetime: timestamp_ntz, tpep_dropoff_datetime: timestamp_ntz, passenger_count: bigint, trip_distance: double, RatecodeID: bigint, store_and_fwd_flag: string, PULocationID: int, DOLocationID: int, payment_type: bigint, fare_amount: double, extra: double, mta_tax: double, tip_amount: double, tolls_amount: double, improvement_surcharge: double, total_amount: double, congestion_surcharge: double, Airport_fee: double]"
      ]
     },
     "execution_count": 45,
     "metadata": {},
     "output_type": "execute_result"
    }
   ],
   "source": [
    "df.cache()"
   ]
  },
  {
   "cell_type": "markdown",
   "metadata": {
    "id": "J427GGKM_B3w"
   },
   "source": [
    "### Exploratory Data Analysis"
   ]
  },
  {
   "cell_type": "code",
   "execution_count": 46,
   "metadata": {
    "colab": {
     "base_uri": "https://localhost:8080/"
    },
    "id": "gpQdBiyuF84D",
    "outputId": "38c8e5d3-6f4c-4f52-d793-bfa4601e531b"
   },
   "outputs": [
    {
     "name": "stdout",
     "output_type": "stream",
     "text": [
      "+--------+--------------------+---------------------+---------------+-------------+----------+------------------+------------+------------+------------+-----------+-----+-------+----------+------------+---------------------+------------+--------------------+-----------+\n",
      "|VendorID|tpep_pickup_datetime|tpep_dropoff_datetime|passenger_count|trip_distance|RatecodeID|store_and_fwd_flag|PULocationID|DOLocationID|payment_type|fare_amount|extra|mta_tax|tip_amount|tolls_amount|improvement_surcharge|total_amount|congestion_surcharge|Airport_fee|\n",
      "+--------+--------------------+---------------------+---------------+-------------+----------+------------------+------------+------------+------------+-----------+-----+-------+----------+------------+---------------------+------------+--------------------+-----------+\n",
      "|       2| 2024-10-01 00:30:44|  2024-10-01 00:48:26|              1|          3.0|         1|                 N|         162|         246|           1|       18.4|  1.0|    0.5|       1.5|         0.0|                  1.0|        24.9|                 2.5|        0.0|\n",
      "|       1| 2024-10-01 00:12:20|  2024-10-01 00:25:25|              1|          2.2|         1|                 N|          48|         236|           1|       14.2|  3.5|    0.5|       3.8|         0.0|                  1.0|        23.0|                 2.5|        0.0|\n",
      "|       1| 2024-10-01 00:04:46|  2024-10-01 00:13:52|              1|          2.7|         1|                 N|         142|          24|           1|       13.5|  3.5|    0.5|       3.7|         0.0|                  1.0|        22.2|                 2.5|        0.0|\n",
      "|       1| 2024-10-01 00:12:10|  2024-10-01 00:23:01|              1|          3.1|         1|                 N|         233|          75|           1|       14.2|  3.5|    0.5|       2.0|         0.0|                  1.0|        21.2|                 2.5|        0.0|\n",
      "|       1| 2024-10-01 00:30:22|  2024-10-01 00:30:39|              1|          0.0|         1|                 N|         262|         262|           3|        3.0|  3.5|    0.5|       0.0|         0.0|                  1.0|         8.0|                 2.5|        0.0|\n",
      "|       2| 2024-10-01 00:31:20|  2024-10-01 00:36:00|              2|         0.97|         1|                 N|         137|         137|           1|        7.2|  1.0|    0.5|      2.44|         0.0|                  1.0|       14.64|                 2.5|        0.0|\n",
      "|       1| 2024-10-01 00:42:57|  2024-10-01 00:49:01|              1|          1.3|         1|                 N|         142|          48|           1|        7.9|  3.5|    0.5|      2.55|         0.0|                  1.0|       15.45|                 2.5|        0.0|\n",
      "|       1| 2024-10-01 00:59:55|  2024-10-01 01:02:24|              1|          0.5|         1|                 N|         230|         161|           1|        5.1|  3.5|    0.5|       2.0|         0.0|                  1.0|        12.1|                 2.5|        0.0|\n",
      "|       1| 2024-10-01 00:00:47|  2024-10-01 00:04:22|              0|          1.1|         1|                 N|         142|         237|           1|        7.2|  3.5|    0.5|       3.0|         0.0|                  1.0|        15.2|                 2.5|        0.0|\n",
      "|       1| 2024-10-01 00:17:36|  2024-10-01 00:26:22|              1|          2.2|         1|                 N|         162|         145|           1|       11.4|  3.5|    0.5|       3.3|         0.0|                  1.0|        19.7|                 2.5|        0.0|\n",
      "|       1| 2024-10-01 00:49:00|  2024-10-01 00:52:20|              1|          0.6|         1|                 N|         229|         162|           1|        5.1|  3.5|    0.5|       2.0|         0.0|                  1.0|        12.1|                 2.5|        0.0|\n",
      "|       2| 2024-10-01 00:07:26|  2024-10-01 00:13:20|              1|          0.9|         1|                 N|         162|         162|           1|        7.9|  1.0|    0.5|      3.87|         0.0|                  1.0|       16.77|                 2.5|        0.0|\n",
      "|       2| 2024-10-01 00:17:11|  2024-10-01 00:25:00|              1|         1.33|         1|                 N|         162|         230|           1|        9.3|  1.0|    0.5|       2.0|         0.0|                  1.0|        16.3|                 2.5|        0.0|\n",
      "|       2| 2024-10-01 00:00:34|  2024-10-01 00:05:13|              1|         1.79|         1|                 N|         211|         234|           1|        9.3|  1.0|    0.5|      2.86|         0.0|                  1.0|       17.16|                 2.5|        0.0|\n",
      "|       2| 2024-09-30 23:58:40|  2024-10-01 00:20:26|              1|         5.16|         1|                 N|         142|           7|           1|       24.7|  1.0|    0.5|       0.0|         0.0|                  1.0|        29.7|                 2.5|        0.0|\n",
      "|       1| 2024-10-01 00:55:29|  2024-10-01 01:42:35|              1|         11.3|        99|                 N|         161|         197|           1|       39.5|  0.0|    0.5|       0.0|        6.94|                  1.0|       47.94|                 0.0|        0.0|\n",
      "|       1| 2024-10-01 00:08:59|  2024-10-01 00:40:58|              1|         20.6|         1|                 N|         132|         243|           2|       76.5| 2.75|    0.5|       0.0|        6.94|                  1.0|       87.69|                 0.0|       1.75|\n",
      "|       2| 2024-10-01 00:18:38|  2024-10-01 00:36:47|              2|         7.42|         1|                 N|         239|         247|           4|      -33.1| -1.0|   -0.5|       0.0|         0.0|                 -1.0|       -38.1|                -2.5|        0.0|\n",
      "|       2| 2024-10-01 00:18:38|  2024-10-01 00:36:47|              2|         7.42|         1|                 N|         239|         247|           4|       33.1|  1.0|    0.5|       0.0|         0.0|                  1.0|        38.1|                 2.5|        0.0|\n",
      "|       2| 2024-10-01 00:39:33|  2024-10-01 00:53:59|              1|         4.49|         1|                 N|         247|          60|           2|       21.9|  1.0|    0.5|       0.0|         0.0|                  1.0|        24.4|                 0.0|        0.0|\n",
      "+--------+--------------------+---------------------+---------------+-------------+----------+------------------+------------+------------+------------+-----------+-----+-------+----------+------------+---------------------+------------+--------------------+-----------+\n",
      "only showing top 20 rows\n",
      "\n"
     ]
    }
   ],
   "source": [
    "df.show()"
   ]
  },
  {
   "cell_type": "code",
   "execution_count": 47,
   "metadata": {
    "colab": {
     "base_uri": "https://localhost:8080/"
    },
    "id": "lvxBfsdi_FHT",
    "outputId": "22189734-d9a2-4a8c-e373-f0df72063d3c"
   },
   "outputs": [
    {
     "name": "stdout",
     "output_type": "stream",
     "text": [
      "root\n",
      " |-- VendorID: integer (nullable = true)\n",
      " |-- tpep_pickup_datetime: timestamp_ntz (nullable = true)\n",
      " |-- tpep_dropoff_datetime: timestamp_ntz (nullable = true)\n",
      " |-- passenger_count: long (nullable = true)\n",
      " |-- trip_distance: double (nullable = true)\n",
      " |-- RatecodeID: long (nullable = true)\n",
      " |-- store_and_fwd_flag: string (nullable = true)\n",
      " |-- PULocationID: integer (nullable = true)\n",
      " |-- DOLocationID: integer (nullable = true)\n",
      " |-- payment_type: long (nullable = true)\n",
      " |-- fare_amount: double (nullable = true)\n",
      " |-- extra: double (nullable = true)\n",
      " |-- mta_tax: double (nullable = true)\n",
      " |-- tip_amount: double (nullable = true)\n",
      " |-- tolls_amount: double (nullable = true)\n",
      " |-- improvement_surcharge: double (nullable = true)\n",
      " |-- total_amount: double (nullable = true)\n",
      " |-- congestion_surcharge: double (nullable = true)\n",
      " |-- Airport_fee: double (nullable = true)\n",
      "\n"
     ]
    }
   ],
   "source": [
    "df.printSchema()"
   ]
  },
  {
   "cell_type": "code",
   "execution_count": 48,
   "metadata": {
    "id": "HlvUO1dw_Ij1"
   },
   "outputs": [
    {
     "name": "stdout",
     "output_type": "stream",
     "text": [
      "+-------+------------------+------------------+-----------------+------------------+------------------+------------------+------------------+------------------+------------------+------------------+-------------------+-----------------+------------------+---------------------+------------------+--------------------+-------------------+\n",
      "|summary|          VendorID|   passenger_count|    trip_distance|        RatecodeID|store_and_fwd_flag|      PULocationID|      DOLocationID|      payment_type|       fare_amount|             extra|            mta_tax|       tip_amount|      tolls_amount|improvement_surcharge|      total_amount|congestion_surcharge|        Airport_fee|\n",
      "+-------+------------------+------------------+-----------------+------------------+------------------+------------------+------------------+------------------+------------------+------------------+-------------------+-----------------+------------------+---------------------+------------------+--------------------+-------------------+\n",
      "|  count|          14623737|          12989728|         14623737|          12989728|          12989728|          14623737|          14623737|          14623737|          14623737|          14623737|           14623737|         14623737|          14623737|             14623737|          14623737|            12989728|           12989728|\n",
      "|   mean|1.7736261941800513|1.3248918684055586|5.349777796194856|2.3736469308672206|              NULL|164.78793382293458|163.92659584892698|1.0929475140314682|18.948369522784958|1.3474954828577679|0.47719407836724637|3.295671594750073|0.5341421327527942|   0.9550703421430519| 27.53858091610029|  2.2286941073746886|0.13470797848884902|\n",
      "| stddev|0.4239305940695143|0.7828292541425396|516.0915024875635|11.143139495415943|              NULL| 64.43727540103808| 69.51552499234579|0.6746841688324511|242.97367702208075|1.8141477469089304|0.13890007325995576|4.066855104181773|2.1778352456779437|   0.2776193926255271|243.39029083000264|  0.8964661188190921| 0.4867041442833411|\n",
      "|    min|                 1|                 0|              0.0|                 1|                 N|                 1|                 1|                 0|           -1458.3|             -9.25|               -0.5|           -93.68|           -140.63|                 -1.0|          -1477.68|                -2.5|              -1.75|\n",
      "|    max|                 7|                 9|        398608.62|                99|                 Y|               265|               265|                 5|         863372.12|              16.0|               41.3|            572.5|            170.94|                  2.0|         863380.37|                 2.5|               6.75|\n",
      "+-------+------------------+------------------+-----------------+------------------+------------------+------------------+------------------+------------------+------------------+------------------+-------------------+-----------------+------------------+---------------------+------------------+--------------------+-------------------+\n",
      "\n"
     ]
    }
   ],
   "source": [
    "df.describe().show()"
   ]
  },
  {
   "cell_type": "code",
   "execution_count": 49,
   "metadata": {
    "colab": {
     "base_uri": "https://localhost:8080/"
    },
    "id": "2vI8VTOc_Lz_",
    "outputId": "a91666e6-39da-4813-e5db-d5405864848b"
   },
   "outputs": [
    {
     "name": "stdout",
     "output_type": "stream",
     "text": [
      "+-------+------------------+------------------+-----------------+------------------+------------------+------------------+------------------+------------------+------------------+------------------+-------------------+-----------------+------------------+---------------------+------------------+--------------------+-------------------+\n",
      "|summary|          VendorID|   passenger_count|    trip_distance|        RatecodeID|store_and_fwd_flag|      PULocationID|      DOLocationID|      payment_type|       fare_amount|             extra|            mta_tax|       tip_amount|      tolls_amount|improvement_surcharge|      total_amount|congestion_surcharge|        Airport_fee|\n",
      "+-------+------------------+------------------+-----------------+------------------+------------------+------------------+------------------+------------------+------------------+------------------+-------------------+-----------------+------------------+---------------------+------------------+--------------------+-------------------+\n",
      "|  count|          14623737|          12989728|         14623737|          12989728|          12989728|          14623737|          14623737|          14623737|          14623737|          14623737|           14623737|         14623737|          14623737|             14623737|          14623737|            12989728|           12989728|\n",
      "|   mean|1.7736261941800513|1.3248918684055586|5.349777796194856|2.3736469308672206|              NULL|164.78793382293458|163.92659584892698|1.0929475140314682|18.948369522784958|1.3474954828577679|0.47719407836724637|3.295671594750073|0.5341421327527942|   0.9550703421430519| 27.53858091610029|  2.2286941073746886|0.13470797848884902|\n",
      "| stddev|0.4239305940695143|0.7828292541425396|516.0915024875635|11.143139495415943|              NULL| 64.43727540103808| 69.51552499234579|0.6746841688324511|242.97367702208075|1.8141477469089304|0.13890007325995576|4.066855104181773|2.1778352456779437|   0.2776193926255271|243.39029083000264|  0.8964661188190921| 0.4867041442833411|\n",
      "|    min|                 1|                 0|              0.0|                 1|                 N|                 1|                 1|                 0|           -1458.3|             -9.25|               -0.5|           -93.68|           -140.63|                 -1.0|          -1477.68|                -2.5|              -1.75|\n",
      "|    25%|                 2|                 1|              1.0|                 1|              NULL|               132|               113|                 1|               9.3|               0.0|                0.5|              0.0|               0.0|                  1.0|             15.75|                 2.5|                0.0|\n",
      "|    50%|                 2|                 1|              1.7|                 1|              NULL|               162|               162|                 1|              13.5|               1.0|                0.5|             2.62|               0.0|                  1.0|              21.0|                 2.5|                0.0|\n",
      "|    75%|                 2|                 1|             3.26|                 1|              NULL|               234|               234|                 1|              22.0|               2.5|                0.5|             4.26|               0.0|                  1.0|              30.4|                 2.5|                0.0|\n",
      "|    max|                 7|                 9|        398608.62|                99|                 Y|               265|               265|                 5|         863372.12|              16.0|               41.3|            572.5|            170.94|                  2.0|         863380.37|                 2.5|               6.75|\n",
      "+-------+------------------+------------------+-----------------+------------------+------------------+------------------+------------------+------------------+------------------+------------------+-------------------+-----------------+------------------+---------------------+------------------+--------------------+-------------------+\n",
      "\n"
     ]
    }
   ],
   "source": [
    "df.summary().show()"
   ]
  },
  {
   "cell_type": "code",
   "execution_count": null,
   "metadata": {
    "colab": {
     "base_uri": "https://localhost:8080/"
    },
    "id": "0yaZPlbm_Pq-",
    "outputId": "e5bfe107-7c33-47bf-d52a-5ff8246aed82"
   },
   "outputs": [
    {
     "name": "stdout",
     "output_type": "stream",
     "text": [
      "+--------+--------------------+---------------------+---------------+-------------+----------+------------------+------------+------------+------------+-----------+-----+-------+----------+------------+---------------------+------------+--------------------+-----------+\n",
      "|VendorID|tpep_pickup_datetime|tpep_dropoff_datetime|passenger_count|trip_distance|RatecodeID|store_and_fwd_flag|PULocationID|DOLocationID|payment_type|fare_amount|extra|mta_tax|tip_amount|tolls_amount|improvement_surcharge|total_amount|congestion_surcharge|Airport_fee|\n",
      "+--------+--------------------+---------------------+---------------+-------------+----------+------------------+------------+------------+------------+-----------+-----+-------+----------+------------+---------------------+------------+--------------------+-----------+\n",
      "|       0|                   0|                    0|        1634009|            0|   1634009|           1634009|           0|           0|           0|          0|    0|      0|         0|           0|                    0|           0|             1634009|    1634009|\n",
      "+--------+--------------------+---------------------+---------------+-------------+----------+------------------+------------+------------+------------+-----------+-----+-------+----------+------------+---------------------+------------+--------------------+-----------+\n",
      "\n"
     ]
    }
   ],
   "source": [
    "df.select([count(when(col(c).isNull(), c)).alias(c) for c in df.columns]).show()"
   ]
  },
  {
   "cell_type": "code",
   "execution_count": 51,
   "metadata": {
    "colab": {
     "base_uri": "https://localhost:8080/"
    },
    "id": "JUuiPaujBd9T",
    "outputId": "89e724ee-17d9-4ec9-8b35-5a2a041b3c28"
   },
   "outputs": [
    {
     "name": "stdout",
     "output_type": "stream",
     "text": [
      "+---------------+--------+\n",
      "|passenger_count|   count|\n",
      "+---------------+--------+\n",
      "|              0|  119193|\n",
      "|              7|      17|\n",
      "|              6|   56748|\n",
      "|              9|      13|\n",
      "|              5|   84507|\n",
      "|              1|10069181|\n",
      "|              3|  450809|\n",
      "|              8|      49|\n",
      "|              2| 1906059|\n",
      "|              4|  303152|\n",
      "|           NULL| 1634009|\n",
      "+---------------+--------+\n",
      "\n"
     ]
    }
   ],
   "source": [
    "df.groupBy(\"passenger_count\").count().show()"
   ]
  },
  {
   "cell_type": "code",
   "execution_count": 52,
   "metadata": {
    "colab": {
     "base_uri": "https://localhost:8080/"
    },
    "id": "MIzEH3axCPfu",
    "outputId": "42d889dc-6b1b-47ce-ba65-da1ed76ca594"
   },
   "outputs": [
    {
     "name": "stdout",
     "output_type": "stream",
     "text": [
      "+--------------------+--------+\n",
      "|congestion_surcharge|   count|\n",
      "+--------------------+--------+\n",
      "|                 0.0|  996085|\n",
      "|                 2.5|11786839|\n",
      "|                0.75|       4|\n",
      "|                -2.5|  206791|\n",
      "|               -0.75|       1|\n",
      "|                 1.0|       8|\n",
      "|                NULL| 1634009|\n",
      "+--------------------+--------+\n",
      "\n"
     ]
    }
   ],
   "source": [
    "df.groupBy(\"congestion_surcharge\").count().show()"
   ]
  },
  {
   "cell_type": "code",
   "execution_count": 53,
   "metadata": {
    "colab": {
     "base_uri": "https://localhost:8080/"
    },
    "id": "ywgURLTZCSMw",
    "outputId": "eda98d7f-0b5b-4e5e-b90b-7ffed6ac531e"
   },
   "outputs": [
    {
     "name": "stdout",
     "output_type": "stream",
     "text": [
      "+-----------+--------+\n",
      "|Airport_fee|   count|\n",
      "+-----------+--------+\n",
      "|        0.0|11908077|\n",
      "|       1.25|      11|\n",
      "|      -1.75|   40883|\n",
      "|       1.75| 1040748|\n",
      "|       NULL| 1634009|\n",
      "|       0.75|       1|\n",
      "|        5.0|       7|\n",
      "|       6.75|       1|\n",
      "+-----------+--------+\n",
      "\n"
     ]
    }
   ],
   "source": [
    "df.groupBy(\"Airport_fee\").count().show()\n"
   ]
  },
  {
   "cell_type": "code",
   "execution_count": null,
   "metadata": {
    "colab": {
     "base_uri": "https://localhost:8080/"
    },
    "id": "4lV80ZGRFJ87",
    "outputId": "f6ab8f98-564a-485a-a347-d0ecb861f970"
   },
   "outputs": [
    {
     "name": "stdout",
     "output_type": "stream",
     "text": [
      "There are 2 duplicate rows.\n"
     ]
    }
   ],
   "source": [
    "total_count = df.count()\n",
    "unique_count = df.dropDuplicates().count()\n",
    "\n",
    "if total_count > unique_count:\n",
    "    print(f\"There are {total_count - unique_count} duplicate rows.\")\n",
    "else:\n",
    "    print(\"There are no duplicate rows.\")\n"
   ]
  },
  {
   "cell_type": "code",
   "execution_count": null,
   "metadata": {
    "colab": {
     "base_uri": "https://localhost:8080/"
    },
    "id": "nKeIUkosMKeb",
    "outputId": "3bafc0e6-bae2-4f40-c2f2-eeb787fa64ff"
   },
   "outputs": [
    {
     "name": "stdout",
     "output_type": "stream",
     "text": [
      "Columns with outliers: ['trip_distance', 'fare_amount', 'extra', 'mta_tax', 'tip_amount', 'tolls_amount', 'improvement_surcharge', 'total_amount', 'congestion_surcharge', 'Airport_fee', 'passenger_count']\n",
      "+-------------+-----------+-----+-------+----------+------------+---------------------+------------+--------------------+-----------+---------------+\n",
      "|trip_distance|fare_amount|extra|mta_tax|tip_amount|tolls_amount|improvement_surcharge|total_amount|congestion_surcharge|Airport_fee|passenger_count|\n",
      "+-------------+-----------+-----+-------+----------+------------+---------------------+------------+--------------------+-----------+---------------+\n",
      "|          3.0|       18.4|  1.0|    0.5|       1.5|         0.0|                  1.0|        24.9|                 2.5|        0.0|              1|\n",
      "|          2.2|       14.2|  3.5|    0.5|       3.8|         0.0|                  1.0|        23.0|                 2.5|        0.0|              1|\n",
      "|          2.7|       13.5|  3.5|    0.5|       3.7|         0.0|                  1.0|        22.2|                 2.5|        0.0|              1|\n",
      "|          3.1|       14.2|  3.5|    0.5|       2.0|         0.0|                  1.0|        21.2|                 2.5|        0.0|              1|\n",
      "|          0.0|        3.0|  3.5|    0.5|       0.0|         0.0|                  1.0|         8.0|                 2.5|        0.0|              1|\n",
      "|         0.97|        7.2|  1.0|    0.5|      2.44|         0.0|                  1.0|       14.64|                 2.5|        0.0|              2|\n",
      "|          1.3|        7.9|  3.5|    0.5|      2.55|         0.0|                  1.0|       15.45|                 2.5|        0.0|              1|\n",
      "|          0.5|        5.1|  3.5|    0.5|       2.0|         0.0|                  1.0|        12.1|                 2.5|        0.0|              1|\n",
      "|          1.1|        7.2|  3.5|    0.5|       3.0|         0.0|                  1.0|        15.2|                 2.5|        0.0|              0|\n",
      "|          2.2|       11.4|  3.5|    0.5|       3.3|         0.0|                  1.0|        19.7|                 2.5|        0.0|              1|\n",
      "|          0.6|        5.1|  3.5|    0.5|       2.0|         0.0|                  1.0|        12.1|                 2.5|        0.0|              1|\n",
      "|          0.9|        7.9|  1.0|    0.5|      3.87|         0.0|                  1.0|       16.77|                 2.5|        0.0|              1|\n",
      "|         1.33|        9.3|  1.0|    0.5|       2.0|         0.0|                  1.0|        16.3|                 2.5|        0.0|              1|\n",
      "|         1.79|        9.3|  1.0|    0.5|      2.86|         0.0|                  1.0|       17.16|                 2.5|        0.0|              1|\n",
      "|         5.16|       24.7|  1.0|    0.5|       0.0|         0.0|                  1.0|        29.7|                 2.5|        0.0|              1|\n",
      "|         11.3|       39.5|  0.0|    0.5|       0.0|        6.94|                  1.0|       47.94|                 0.0|        0.0|              1|\n",
      "|         20.6|       76.5| 2.75|    0.5|       0.0|        6.94|                  1.0|       87.69|                 0.0|       1.75|              1|\n",
      "|         7.42|      -33.1| -1.0|   -0.5|       0.0|         0.0|                 -1.0|       -38.1|                -2.5|        0.0|              2|\n",
      "|         7.42|       33.1|  1.0|    0.5|       0.0|         0.0|                  1.0|        38.1|                 2.5|        0.0|              2|\n",
      "|         4.49|       21.9|  1.0|    0.5|       0.0|         0.0|                  1.0|        24.4|                 0.0|        0.0|              1|\n",
      "+-------------+-----------+-----+-------+----------+------------+---------------------+------------+--------------------+-----------+---------------+\n",
      "only showing top 20 rows\n",
      "\n"
     ]
    }
   ],
   "source": [
    "numerical_columns = [\"trip_distance\", \"fare_amount\", \"extra\", \"mta_tax\", \"tip_amount\",\n",
    "                     \"tolls_amount\", \"improvement_surcharge\", \"total_amount\",\n",
    "                     \"congestion_surcharge\", \"Airport_fee\", \"passenger_count\"]\n",
    "\n",
    "outlier_columns = []\n",
    "for column in numerical_columns:\n",
    "    quantiles = df.approxQuantile(column, [0.25, 0.75], 0.0)\n",
    "    Q1, Q3 = quantiles[0], quantiles[1]\n",
    "    IQR = Q3 - Q1\n",
    "    lower_bound = Q1 - 1.5 * IQR\n",
    "    upper_bound = Q3 + 1.5 * IQR\n",
    "\n",
    "    outlier_count = df.filter((col(column) < lower_bound) | (col(column) > upper_bound)).count()\n",
    "    if outlier_count > 0:\n",
    "        outlier_columns.append(column)\n",
    "\n",
    "if outlier_columns:\n",
    "    print(f\"Columns with outliers: {outlier_columns}\")\n",
    "    df.select(outlier_columns).show()\n",
    "else:\n",
    "    print(\"No columns with outliers found.\")\n"
   ]
  },
  {
   "cell_type": "markdown",
   "metadata": {
    "id": "BGVieXg1A4lr"
   },
   "source": [
    "### Preprocessing"
   ]
  },
  {
   "cell_type": "code",
   "execution_count": 56,
   "metadata": {
    "id": "jRGLYXnfAXJd"
   },
   "outputs": [],
   "source": [
    "df = df.na.drop(subset=[\"RatecodeID\", \"store_and_fwd_flag\"])"
   ]
  },
  {
   "cell_type": "code",
   "execution_count": null,
   "metadata": {
    "id": "gwjSXyGFCdtk"
   },
   "outputs": [],
   "source": [
    "mean_values = df.select(\n",
    "    mean(\"passenger_count\").alias(\"mean_passenger_count\"),\n",
    "    mean(\"congestion_surcharge\").alias(\"mean_congestion_surcharge\"),\n",
    "    mean(\"Airport_fee\").alias(\"mean_airport_fee\")\n",
    ").collect()[0]\n",
    "\n",
    "df = df.na.fill({\n",
    "    \"passenger_count\": mean_values[\"mean_passenger_count\"],\n",
    "    \"congestion_surcharge\": mean_values[\"mean_congestion_surcharge\"],\n",
    "    \"Airport_fee\": mean_values[\"mean_airport_fee\"]\n",
    "})\n"
   ]
  },
  {
   "cell_type": "code",
   "execution_count": null,
   "metadata": {
    "id": "Rnc-ys6DGh3r"
   },
   "outputs": [],
   "source": [
    "outlier_columns = [\"trip_distance\", \"fare_amount\", \"extra\", \"mta_tax\", \"tip_amount\",\n",
    "                   \"tolls_amount\", \"improvement_surcharge\", \"total_amount\",\n",
    "                   \"congestion_surcharge\", \"Airport_fee\", \"passenger_count\"]\n",
    "\n",
    "for column in outlier_columns:\n",
    "    quantiles = df.approxQuantile(column, [0.25, 0.75], 0.0)\n",
    "    Q1, Q3 = quantiles[0], quantiles[1]\n",
    "    IQR = Q3 - Q1\n",
    "    lower_bound = Q1 - 1.5 * IQR\n",
    "    upper_bound = Q3 + 1.5 * IQR\n",
    "\n",
    "    df = df.filter((col(column) >= lower_bound) & (col(column) <= upper_bound))\n"
   ]
  },
  {
   "cell_type": "code",
   "execution_count": 59,
   "metadata": {
    "colab": {
     "base_uri": "https://localhost:8080/"
    },
    "id": "YEOpbXXKP4lA",
    "outputId": "abb5e6af-bf10-47fa-9320-d6b3931db6b2",
    "scrolled": true
   },
   "outputs": [
    {
     "name": "stdout",
     "output_type": "stream",
     "text": [
      "+-------+-------------------+---------------+------------------+------------------+------------------+------------------+------------------+-------------------+------------------+-----------------+-------+------------------+------------+---------------------+------------------+--------------------+-----------+\n",
      "|summary|           VendorID|passenger_count|     trip_distance|        RatecodeID|store_and_fwd_flag|      PULocationID|      DOLocationID|       payment_type|       fare_amount|            extra|mta_tax|        tip_amount|tolls_amount|improvement_surcharge|      total_amount|congestion_surcharge|Airport_fee|\n",
      "+-------+-------------------+---------------+------------------+------------------+------------------+------------------+------------------+-------------------+------------------+-----------------+-------+------------------+------------+---------------------+------------------+--------------------+-----------+\n",
      "|  count|            7894427|        7894427|           7894427|           7894427|           7894427|           7894427|           7894427|            7894427|           7894427|          7894427|7894427|           7894427|     7894427|              7894427|           7894427|             7894427|    7894427|\n",
      "|   mean|  1.760197668557832|            1.0|1.6679367102894311|1.0045473851363753|              NULL|171.94621712253468|170.21297695196878| 1.1723218163902207|12.813348248073279|1.388487221428484|    0.5|2.6751954359700165|         0.0|                  1.0|20.373457422558488|                 2.5|        0.0|\n",
      "| stddev|0.43156175899733035|            0.0|1.0682983003315432| 0.603892281508613|              NULL|63.570042828903055| 66.76447602079593|0.46952862584047156| 5.661694169803039|1.477029971043655|    0.0| 1.769956333077968|         0.0|                  0.0| 6.704416837732381|3.858345137018057...|        0.0|\n",
      "|    min|                  1|              1|               0.0|                 1|                 N|                 4|                 1|                  1|               0.0|              0.0|    0.5|               0.0|         0.0|                  1.0|               4.0|                 2.5|        0.0|\n",
      "|    max|                  7|              1|              6.41|                99|                 Y|               265|               265|                  4|              31.3|              6.0|    0.5|              8.19|         0.0|                  1.0|             39.44|                 2.5|        0.0|\n",
      "+-------+-------------------+---------------+------------------+------------------+------------------+------------------+------------------+-------------------+------------------+-----------------+-------+------------------+------------+---------------------+------------------+--------------------+-----------+\n",
      "\n"
     ]
    }
   ],
   "source": [
    "df.describe().show()"
   ]
  },
  {
   "cell_type": "markdown",
   "metadata": {
    "id": "t1EInrk2PveA"
   },
   "source": [
    "### Feature Engineering"
   ]
  },
  {
   "cell_type": "code",
   "execution_count": null,
   "metadata": {
    "id": "OCfbqA-LOO_F"
   },
   "outputs": [],
   "source": [
    "df = df.withColumn(\"pickup_hour\", hour(\"tpep_pickup_datetime\")) \\\n",
    "       .withColumn(\"pickup_dayofweek\", dayofweek(\"tpep_pickup_datetime\")) \\\n",
    "       .withColumn(\"pickup_month\", month(\"tpep_pickup_datetime\")) \\\n",
    "       .withColumn(\"pickup_year\", year(\"tpep_pickup_datetime\"))\n",
    "\n",
    "df = df.withColumn(\"trip_duration\",\n",
    "                   (unix_timestamp(\"tpep_dropoff_datetime\") - unix_timestamp(\"tpep_pickup_datetime\")) / 60)\n",
    "\n",
    "df = df.withColumn(\"distance_per_passenger\", col(\"trip_distance\") / col(\"passenger_count\"))\n",
    "df = df.withColumn(\"fare_per_distance\", col(\"fare_amount\") / col(\"trip_distance\"))\n",
    "df = df.withColumn(\"total_per_passenger\", col(\"total_amount\") / col(\"passenger_count\"))\n",
    "\n",
    "\n",
    "location_aggregates = df.groupBy(\"PULocationID\").agg(\n",
    "    mean(\"fare_amount\").alias(\"avg_fare_by_location\"),\n",
    "    mean(\"trip_duration\").alias(\"avg_duration_by_location\")\n",
    ")\n",
    "\n",
    "df = df.join(location_aggregates, on=\"PULocationID\", how=\"left\")\n"
   ]
  },
  {
   "cell_type": "code",
   "execution_count": 61,
   "metadata": {
    "colab": {
     "base_uri": "https://localhost:8080/"
    },
    "id": "zIULUkllR5cx",
    "outputId": "369536da-2bca-4507-88c9-65ee57a199b7"
   },
   "outputs": [
    {
     "name": "stdout",
     "output_type": "stream",
     "text": [
      "+------------+--------+--------------------+---------------------+---------------+-------------+----------+------------------+------------+------------+-----------+-----+-------+----------+------------+---------------------+------------+--------------------+-----------+-----------+----------------+------------+-----------+------------------+----------------------+-----------------+-------------------+--------------------+------------------------+\n",
      "|PULocationID|VendorID|tpep_pickup_datetime|tpep_dropoff_datetime|passenger_count|trip_distance|RatecodeID|store_and_fwd_flag|DOLocationID|payment_type|fare_amount|extra|mta_tax|tip_amount|tolls_amount|improvement_surcharge|total_amount|congestion_surcharge|Airport_fee|pickup_hour|pickup_dayofweek|pickup_month|pickup_year|     trip_duration|distance_per_passenger|fare_per_distance|total_per_passenger|avg_fare_by_location|avg_duration_by_location|\n",
      "+------------+--------+--------------------+---------------------+---------------+-------------+----------+------------------+------------+------------+-----------+-----+-------+----------+------------+---------------------+------------+--------------------+-----------+-----------+----------------+------------+-----------+------------------+----------------------+-----------------+-------------------+--------------------+------------------------+\n",
      "|         233|       1| 2024-10-01 00:12:10|  2024-10-01 00:23:01|              1|          3.1|         1|                 N|          75|           1|       14.2|  3.5|    0.5|       2.0|         0.0|                  1.0|        21.2|                 2.5|        0.0|          0|               3|          10|       2024|             10.85|                   3.1|4.580645161290322|               21.2|  12.880184614115258|      12.761252522543902|\n",
      "|         142|       1| 2024-10-01 00:04:46|  2024-10-01 00:13:52|              1|          2.7|         1|                 N|          24|           1|       13.5|  3.5|    0.5|       3.7|         0.0|                  1.0|        22.2|                 2.5|        0.0|          0|               3|          10|       2024|               9.1|                   2.7|              5.0|               22.2|    12.3855741635912|      12.125468623951114|\n",
      "|         142|       1| 2024-10-01 00:42:57|  2024-10-01 00:49:01|              1|          1.3|         1|                 N|          48|           1|        7.9|  3.5|    0.5|      2.55|         0.0|                  1.0|       15.45|                 2.5|        0.0|          0|               3|          10|       2024| 6.066666666666666|                   1.3|6.076923076923077|              15.45|    12.3855741635912|      12.125468623951114|\n",
      "|          48|       1| 2024-10-01 00:12:20|  2024-10-01 00:25:25|              1|          2.2|         1|                 N|         236|           1|       14.2|  3.5|    0.5|       3.8|         0.0|                  1.0|        23.0|                 2.5|        0.0|          0|               3|          10|       2024|13.083333333333334|                   2.2|6.454545454545454|               23.0|  12.518441148569778|      12.229941151610223|\n",
      "|         262|       1| 2024-10-01 00:30:22|  2024-10-01 00:30:39|              1|          0.0|         1|                 N|         262|           3|        3.0|  3.5|    0.5|       0.0|         0.0|                  1.0|         8.0|                 2.5|        0.0|          0|               3|          10|       2024|0.2833333333333333|                   0.0|             NULL|                8.0|  12.075206866912923|       10.97805434886417|\n",
      "+------------+--------+--------------------+---------------------+---------------+-------------+----------+------------------+------------+------------+-----------+-----+-------+----------+------------+---------------------+------------+--------------------+-----------+-----------+----------------+------------+-----------+------------------+----------------------+-----------------+-------------------+--------------------+------------------------+\n",
      "only showing top 5 rows\n",
      "\n"
     ]
    }
   ],
   "source": [
    "df.show(5)"
   ]
  },
  {
   "cell_type": "markdown",
   "metadata": {
    "id": "_ks7M2MiU5rO"
   },
   "source": [
    "### Check feature imporatnce for fare price prediction"
   ]
  },
  {
   "cell_type": "code",
   "execution_count": 62,
   "metadata": {
    "colab": {
     "base_uri": "https://localhost:8080/"
    },
    "id": "pc4P6RcvTxGj",
    "outputId": "76ff9ef8-6a13-422e-bfea-33067f77a27e"
   },
   "outputs": [
    {
     "name": "stdout",
     "output_type": "stream",
     "text": [
      "Correlation between fare_amount and PULocationID: -0.05731761376031353\n",
      "Correlation between fare_amount and VendorID: 0.03193474224763642\n",
      "Correlation between fare_amount and passenger_count: nan\n",
      "Correlation between fare_amount and trip_distance: 0.8426892946973084\n",
      "Correlation between fare_amount and RatecodeID: -0.01049632237016641\n",
      "Correlation between fare_amount and DOLocationID: -0.07870574956778548\n",
      "Correlation between fare_amount and payment_type: -0.04142807756311245\n",
      "Correlation between fare_amount and extra: -0.028787498940742975\n",
      "Correlation between fare_amount and mta_tax: nan\n",
      "Correlation between fare_amount and tip_amount: 0.4249995821961977\n",
      "Correlation between fare_amount and tolls_amount: nan\n",
      "Correlation between fare_amount and improvement_surcharge: nan\n",
      "Correlation between fare_amount and congestion_surcharge: 0.0468977029458104\n",
      "Correlation between fare_amount and Airport_fee: nan\n",
      "Correlation between fare_amount and pickup_hour: 0.03399407386197581\n",
      "Correlation between fare_amount and pickup_dayofweek: 0.015011921770690712\n",
      "Correlation between fare_amount and pickup_month: 0.07477794491844585\n",
      "Correlation between fare_amount and pickup_year: -0.07688028689866322\n",
      "Correlation between fare_amount and trip_duration: 0.2344226003494445\n",
      "Correlation between fare_amount and distance_per_passenger: 0.8426892946973084\n",
      "Correlation between fare_amount and fare_per_distance: -0.11297964378960741\n",
      "Correlation between fare_amount and total_per_passenger: 0.9553677032456637\n",
      "Correlation between fare_amount and avg_fare_by_location: 0.17976669626886227\n",
      "Correlation between fare_amount and avg_duration_by_location: 0.160320661063198\n"
     ]
    }
   ],
   "source": [
    "input_features = [\"PULocationID\", \"VendorID\", \"passenger_count\", \"trip_distance\", \"RatecodeID\",\n",
    "                  \"DOLocationID\", \"payment_type\", \"extra\", \"mta_tax\", \"tip_amount\",\n",
    "                  \"tolls_amount\", \"improvement_surcharge\", \"congestion_surcharge\",\n",
    "                  \"Airport_fee\", \"pickup_hour\", \"pickup_dayofweek\", \"pickup_month\",\n",
    "                  \"pickup_year\", \"trip_duration\", \"distance_per_passenger\",\n",
    "                  \"fare_per_distance\", \"total_per_passenger\", \"avg_fare_by_location\",\n",
    "                  \"avg_duration_by_location\"]\n",
    "for feature in input_features:\n",
    "    correlation = df.stat.corr(\"fare_amount\", feature)\n",
    "    print(f\"Correlation between fare_amount and {feature}: {correlation}\")\n"
   ]
  },
  {
   "cell_type": "code",
   "execution_count": null,
   "metadata": {
    "id": "cqipbatXYi9P"
   },
   "outputs": [],
   "source": [
    "target_column = \"fare_amount\"\n",
    "selected_features = [\n",
    "    \"trip_distance\", \"tip_amount\", \"trip_duration\", \"distance_per_passenger\",\n",
    "    \"fare_per_distance\", \"total_per_passenger\", \"avg_fare_by_location\",\n",
    "    \"avg_duration_by_location\"\n",
    "]\n",
    "\n",
    "columns_to_keep = [target_column] + selected_features\n",
    "df = df.select(*columns_to_keep)"
   ]
  },
  {
   "cell_type": "code",
   "execution_count": null,
   "metadata": {
    "colab": {
     "base_uri": "https://localhost:8080/"
    },
    "id": "GEhI-Mg5bv-V",
    "outputId": "f015fe0d-5830-4f89-f5a2-27b3b937564e"
   },
   "outputs": [
    {
     "name": "stdout",
     "output_type": "stream",
     "text": [
      "root\n",
      " |-- fare_amount: double (nullable = true)\n",
      " |-- trip_distance: double (nullable = true)\n",
      " |-- tip_amount: double (nullable = true)\n",
      " |-- trip_duration: double (nullable = true)\n",
      " |-- distance_per_passenger: double (nullable = true)\n",
      " |-- fare_per_distance: double (nullable = true)\n",
      " |-- total_per_passenger: double (nullable = true)\n",
      " |-- avg_fare_by_location: double (nullable = true)\n",
      " |-- avg_duration_by_location: double (nullable = true)\n",
      "\n"
     ]
    }
   ],
   "source": [
    "df.printSchema()"
   ]
  },
  {
   "cell_type": "markdown",
   "metadata": {
    "id": "TqWvZwvAfJRJ"
   },
   "source": [
    "### Building Linear Regression model"
   ]
  },
  {
   "cell_type": "code",
   "execution_count": 65,
   "metadata": {
    "id": "M907Jw7RsGWX"
   },
   "outputs": [],
   "source": [
    "df = df.drop(\"features\", \"out_features\")\n"
   ]
  },
  {
   "cell_type": "code",
   "execution_count": 66,
   "metadata": {
    "colab": {
     "base_uri": "https://localhost:8080/"
    },
    "id": "Mx3FtZb_sLN1",
    "outputId": "68f5c3a3-00c0-41ad-bba4-02fcf1772406"
   },
   "outputs": [
    {
     "name": "stdout",
     "output_type": "stream",
     "text": [
      "root\n",
      " |-- fare_amount: double (nullable = true)\n",
      " |-- trip_distance: double (nullable = true)\n",
      " |-- tip_amount: double (nullable = true)\n",
      " |-- trip_duration: double (nullable = true)\n",
      " |-- distance_per_passenger: double (nullable = true)\n",
      " |-- fare_per_distance: double (nullable = true)\n",
      " |-- total_per_passenger: double (nullable = true)\n",
      " |-- avg_fare_by_location: double (nullable = true)\n",
      " |-- avg_duration_by_location: double (nullable = true)\n",
      "\n"
     ]
    }
   ],
   "source": [
    "df.printSchema()"
   ]
  },
  {
   "cell_type": "code",
   "execution_count": null,
   "metadata": {
    "colab": {
     "base_uri": "https://localhost:8080/"
    },
    "id": "5m1PX5Hva8l5",
    "outputId": "91a1b77d-672a-478a-fc81-e3c32679a000"
   },
   "outputs": [
    {
     "name": "stdout",
     "output_type": "stream",
     "text": [
      "Root Mean Squared Error (RMSE): 0.966536943606636\n",
      "Mean Absolute Error (MAE): 0.7979545068576801\n",
      "Mean Squared Error (MSE): 0.9341936633564575\n"
     ]
    }
   ],
   "source": [
    "for column in [target_column] + selected_features:\n",
    "    df = df.withColumn(column, col(column).cast(DoubleType()))\n",
    "\n",
    "for column in [target_column] + selected_features:\n",
    "    df = df.filter(\n",
    "        ~isnan(col(column)) &\n",
    "        ~isnull(col(column)) &\n",
    "        (col(column) != float(\"inf\")) &\n",
    "        (col(column) != float(\"-inf\"))\n",
    "    )\n",
    "\n",
    "for col_name in ['features', 'scaled_features']:\n",
    "    if col_name in df.columns:\n",
    "        df = df.drop(col_name)\n",
    "\n",
    "assembler = VectorAssembler(inputCols=selected_features, outputCol=\"features\")\n",
    "df = assembler.transform(df)\n",
    "\n",
    "scaler = StandardScaler(inputCol=\"features\", outputCol=\"scaled_features\", withMean=True, withStd=True)\n",
    "scaler_model = scaler.fit(df)\n",
    "df = scaler_model.transform(df)\n",
    "\n",
    "train, test = df.randomSplit([0.8, 0.2], seed=42)\n",
    "\n",
    "lr = LinearRegression(featuresCol=\"scaled_features\", labelCol=target_column)\n",
    "lr_model = lr.fit(train)\n",
    "\n",
    "predictions = lr_model.transform(test)\n",
    "\n",
    "evaluator_rmse = RegressionEvaluator(labelCol=target_column, predictionCol=\"prediction\", metricName=\"rmse\")\n",
    "evaluator_mae = RegressionEvaluator(labelCol=target_column, predictionCol=\"prediction\", metricName=\"mae\")\n",
    "evaluator_mse = RegressionEvaluator(labelCol=target_column, predictionCol=\"prediction\", metricName=\"mse\")\n",
    "\n",
    "rmse = evaluator_rmse.evaluate(predictions)\n",
    "mae = evaluator_mae.evaluate(predictions)\n",
    "mse = evaluator_mse.evaluate(predictions)\n",
    "\n",
    "print(f\"Root Mean Squared Error (RMSE): {rmse}\")\n",
    "print(f\"Mean Absolute Error (MAE): {mae}\")\n",
    "print(f\"Mean Squared Error (MSE): {mse}\")\n"
   ]
  },
  {
   "cell_type": "code",
   "execution_count": null,
   "metadata": {
    "colab": {
     "base_uri": "https://localhost:8080/"
    },
    "id": "xXTw3TWxhVbP",
    "outputId": "e2fb1225-ba23-423d-f815-8a601b146f8e"
   },
   "outputs": [
    {
     "name": "stdout",
     "output_type": "stream",
     "text": [
      "+-----------+------------------+\n",
      "|fare_amount|        prediction|\n",
      "+-----------+------------------+\n",
      "|        7.2| 6.539133765982203|\n",
      "|        8.6| 8.572008953876939|\n",
      "|       17.0| 18.29373354874657|\n",
      "|       14.2|16.079133473220104|\n",
      "|       19.8| 18.80060688276303|\n",
      "|       25.4|26.053411719759914|\n",
      "|        8.6|7.9143755584109705|\n",
      "|       12.8|11.850415569179678|\n",
      "|        4.4|3.8688101578050595|\n",
      "|       14.9|14.238204651586402|\n",
      "+-----------+------------------+\n",
      "\n"
     ]
    }
   ],
   "source": [
    "random_predictions = predictions.select(target_column, \"prediction\").orderBy(rand()).limit(10)\n",
    "\n",
    "random_predictions.show()"
   ]
  },
  {
   "cell_type": "code",
   "execution_count": 70,
   "metadata": {
    "colab": {
     "base_uri": "https://localhost:8080/"
    },
    "id": "-rj_drUcad7f",
    "outputId": "cb741efc-0c3d-4c2f-93f9-6145d0d9a0e9"
   },
   "outputs": [
    {
     "name": "stdout",
     "output_type": "stream",
     "text": [
      "root\n",
      " |-- fare_amount: double (nullable = true)\n",
      " |-- trip_distance: double (nullable = true)\n",
      " |-- tip_amount: double (nullable = true)\n",
      " |-- trip_duration: double (nullable = true)\n",
      " |-- distance_per_passenger: double (nullable = true)\n",
      " |-- fare_per_distance: double (nullable = true)\n",
      " |-- total_per_passenger: double (nullable = true)\n",
      " |-- avg_fare_by_location: double (nullable = true)\n",
      " |-- avg_duration_by_location: double (nullable = true)\n",
      " |-- features: vector (nullable = true)\n",
      " |-- scaled_features: vector (nullable = true)\n",
      "\n"
     ]
    }
   ],
   "source": [
    "df.printSchema()"
   ]
  },
  {
   "cell_type": "markdown",
   "metadata": {
    "id": "VVjjLtqAhEQU"
   },
   "source": [
    "### Checking for Overfitting or Underfitting"
   ]
  },
  {
   "cell_type": "code",
   "execution_count": null,
   "metadata": {
    "colab": {
     "base_uri": "https://localhost:8080/"
    },
    "id": "oWvNKnhtf1bl",
    "outputId": "729d9571-62c3-4190-e2d8-1b63539fce3b"
   },
   "outputs": [
    {
     "name": "stdout",
     "output_type": "stream",
     "text": [
      "Training RMSE: 0.9674816150693553\n",
      "Test RMSE: 0.966536943606636\n",
      "The model seems to be well-fitted.\n"
     ]
    }
   ],
   "source": [
    "train_predictions = lr_model.transform(train)\n",
    "train_rmse = evaluator.evaluate(train_predictions, {evaluator.metricName: \"rmse\"})\n",
    "print(f\"Training RMSE: {train_rmse}\")\n",
    "\n",
    "test_predictions = lr_model.transform(test)\n",
    "test_rmse = evaluator.evaluate(test_predictions, {evaluator.metricName: \"rmse\"})\n",
    "print(f\"Test RMSE: {test_rmse}\")\n",
    "\n",
    "if train_rmse < test_rmse * 0.7:\n",
    "    print(\"The model might be overfitting.\")\n",
    "elif train_rmse > test_rmse * 1.3:\n",
    "    print(\"The model might be underfitting.\")\n",
    "else:\n",
    "    print(\"The model seems to be well-fitted.\")\n"
   ]
  },
  {
   "cell_type": "code",
   "execution_count": null,
   "metadata": {},
   "outputs": [
    {
     "name": "stdout",
     "output_type": "stream",
     "text": [
      "Best Model - Root Mean Squared Error (RMSE): 0.96678768892694\n",
      "Best Params:\n",
      " - regParam: 0.01\n",
      " - elasticNetParam: 0.5\n",
      " - maxIter: 50\n",
      "Additional Metrics from Best Model (based on RMSE tuning):\n",
      " - Mean Absolute Error (MAE): 0.7981660850225181\n",
      " - Mean Squared Error (MSE): 0.9346784354606936\n"
     ]
    }
   ],
   "source": [
    "evaluator_rmse = RegressionEvaluator(labelCol=target_column, predictionCol=\"prediction\", metricName=\"rmse\")\n",
    "\n",
    "paramGrid = (ParamGridBuilder()\n",
    "             .addGrid(lr.regParam, [0.01, 0.1, 0.3])\n",
    "             .addGrid(lr.elasticNetParam, [0.0, 0.5, 1.0])  \n",
    "             .addGrid(lr.maxIter, [50, 100])\n",
    "             .build())\n",
    "\n",
    "crossval = CrossValidator(estimator=lr,\n",
    "                          estimatorParamMaps=paramGrid,\n",
    "                          evaluator=evaluator_rmse,\n",
    "                          numFolds=3,\n",
    "                          parallelism=2)\n",
    "\n",
    "cv_model = crossval.fit(train)\n",
    "\n",
    "best_model = cv_model.bestModel\n",
    "predictions = best_model.transform(test)\n",
    "\n",
    "rmse = evaluator_rmse.evaluate(predictions)\n",
    "print(f\"Best Model - Root Mean Squared Error (RMSE): {rmse}\")\n",
    "print(f\"Best Params:\")\n",
    "print(f\" - regParam: {best_model._java_obj.getRegParam()}\")\n",
    "print(f\" - elasticNetParam: {best_model._java_obj.getElasticNetParam()}\")\n",
    "print(f\" - maxIter: {best_model._java_obj.getMaxIter()}\")\n",
    "\n",
    "evaluator_mae = RegressionEvaluator(labelCol=target_column, predictionCol=\"prediction\", metricName=\"mae\")\n",
    "evaluator_mse = RegressionEvaluator(labelCol=target_column, predictionCol=\"prediction\", metricName=\"mse\")\n",
    "\n",
    "mae = evaluator_mae.evaluate(predictions)\n",
    "mse = evaluator_mse.evaluate(predictions)\n",
    "\n",
    "print(\"Additional Metrics from Best Model (based on RMSE tuning):\")\n",
    "print(f\" - Mean Absolute Error (MAE): {mae}\")\n",
    "print(f\" - Mean Squared Error (MSE): {mse}\")\n"
   ]
  },
  {
   "cell_type": "code",
   "execution_count": null,
   "metadata": {
    "id": "YI8u3yGfo-PR"
   },
   "outputs": [],
   "source": [
    "spark.stop()"
   ]
  }
 ],
 "metadata": {
  "colab": {
   "provenance": []
  },
  "kernelspec": {
   "display_name": "Python 3",
   "language": "python",
   "name": "python3"
  },
  "language_info": {
   "codemirror_mode": {
    "name": "ipython",
    "version": 3
   },
   "file_extension": ".py",
   "mimetype": "text/x-python",
   "name": "python",
   "nbconvert_exporter": "python",
   "pygments_lexer": "ipython3",
   "version": "3.11.9"
  }
 },
 "nbformat": 4,
 "nbformat_minor": 4
}
